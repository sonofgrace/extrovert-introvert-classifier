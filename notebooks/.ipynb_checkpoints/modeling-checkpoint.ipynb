{
 "cells": [
  {
   "metadata": {
    "ExecuteTime": {
     "end_time": "2025-06-28T02:56:07.114618Z",
     "start_time": "2025-06-28T02:56:07.090699Z"
    }
   },
   "cell_type": "code",
   "source": [
    "import pandas as pd\n",
    "import matplotlib.pyplot as plt\n",
    "import seaborn as sns\n",
    "from sklearn.model_selection import train_test_split\n",
    "from sklearn.preprocessing import StandardScaler\n",
    "from sklearn.linear_model import LogisticRegression\n",
    "from sklearn.metrics import classification_report, confusion_matrix\n",
    "from sklearn.ensemble import RandomForestClassifier\n",
    "from xgboost import XGBClassifier"
   ],
   "id": "33b9982b6ee89693",
   "outputs": [],
   "execution_count": 15
  },
  {
   "metadata": {
    "ExecuteTime": {
     "end_time": "2025-06-28T02:56:07.194050Z",
     "start_time": "2025-06-28T02:56:07.166944Z"
    }
   },
   "cell_type": "code",
   "source": "df = pd.read_csv('df.csv')",
   "id": "9db51f5f61e8d08c",
   "outputs": [],
   "execution_count": 16
  },
  {
   "metadata": {
    "ExecuteTime": {
     "end_time": "2025-06-28T02:56:07.306305Z",
     "start_time": "2025-06-28T02:56:07.263527Z"
    }
   },
   "cell_type": "code",
   "source": "df.isna().sum()",
   "id": "8d3230f02b9502f6",
   "outputs": [
    {
     "data": {
      "text/plain": [
       "Unnamed: 0                   0\n",
       "Time_spent_Alone             0\n",
       "Stage_fear                   0\n",
       "Social_event_attendance      0\n",
       "Going_outside                0\n",
       "Drained_after_socializing    0\n",
       "Friends_circle_size          0\n",
       "Post_frequency               0\n",
       "Personality                  0\n",
       "dtype: int64"
      ]
     },
     "execution_count": 17,
     "metadata": {},
     "output_type": "execute_result"
    }
   ],
   "execution_count": 17
  },
  {
   "metadata": {
    "ExecuteTime": {
     "end_time": "2025-06-28T02:56:07.535932Z",
     "start_time": "2025-06-28T02:56:07.516914Z"
    }
   },
   "cell_type": "code",
   "source": [
    "X = df.drop('Personality', axis=1)\n",
    "y = df['Personality']"
   ],
   "id": "5411f45f724c5627",
   "outputs": [],
   "execution_count": 18
  },
  {
   "metadata": {
    "ExecuteTime": {
     "end_time": "2025-06-28T02:56:07.852302Z",
     "start_time": "2025-06-28T02:56:07.796694Z"
    }
   },
   "cell_type": "code",
   "source": [
    "X_train, X_test, y_train, y_test = train_test_split(X, y, test_size=0.2, random_state=42)\n",
    "X_train.shape, X_test.shape"
   ],
   "id": "6cf172c548fa8392",
   "outputs": [
    {
     "data": {
      "text/plain": [
       "((2320, 8), (580, 8))"
      ]
     },
     "execution_count": 19,
     "metadata": {},
     "output_type": "execute_result"
    }
   ],
   "execution_count": 19
  },
  {
   "metadata": {
    "ExecuteTime": {
     "end_time": "2025-06-28T02:56:08.081029Z",
     "start_time": "2025-06-28T02:56:08.043893Z"
    }
   },
   "cell_type": "code",
   "source": [
    "scaler = StandardScaler()\n",
    "X_train_scaled = scaler.fit_transform(X_train)\n",
    "X_test_scaled = scaler.transform(X_test)"
   ],
   "id": "d9c276b82bebcb31",
   "outputs": [],
   "execution_count": 20
  },
  {
   "metadata": {
    "ExecuteTime": {
     "end_time": "2025-06-28T02:56:08.338261Z",
     "start_time": "2025-06-28T02:56:08.190333Z"
    }
   },
   "cell_type": "code",
   "source": [
    "log_reg = LogisticRegression()\n",
    "log_reg.fit(X_train, y_train)\n",
    "y_pred_lr = log_reg.predict(X_test)\n",
    "\n",
    "print('Logistic Regression Result')\n",
    "print(confusion_matrix(y_test, y_pred_lr))\n",
    "print(classification_report(y_test, y_pred_lr))"
   ],
   "id": "39dadc2b9a1053e",
   "outputs": [
    {
     "name": "stdout",
     "output_type": "stream",
     "text": [
      "Logistic Regression Result\n",
      "[[259  19]\n",
      " [ 24 278]]\n",
      "              precision    recall  f1-score   support\n",
      "\n",
      "           0       0.92      0.93      0.92       278\n",
      "           1       0.94      0.92      0.93       302\n",
      "\n",
      "    accuracy                           0.93       580\n",
      "   macro avg       0.93      0.93      0.93       580\n",
      "weighted avg       0.93      0.93      0.93       580\n",
      "\n"
     ]
    },
    {
     "name": "stderr",
     "output_type": "stream",
     "text": [
      "C:\\Users\\HUB\\Desktop\\HUB\\PYTHON\\Python Projects\\data\\.venv\\Lib\\site-packages\\sklearn\\linear_model\\_logistic.py:470: ConvergenceWarning: lbfgs failed to converge after 100 iteration(s) (status=1):\n",
      "STOP: TOTAL NO. OF ITERATIONS REACHED LIMIT\n",
      "\n",
      "Increase the number of iterations to improve the convergence (max_iter=100).\n",
      "You might also want to scale the data as shown in:\n",
      "    https://scikit-learn.org/stable/modules/preprocessing.html\n",
      "Please also refer to the documentation for alternative solver options:\n",
      "    https://scikit-learn.org/stable/modules/linear_model.html#logistic-regression\n",
      "  n_iter_i = _check_optimize_result(\n"
     ]
    }
   ],
   "execution_count": 21
  },
  {
   "metadata": {
    "ExecuteTime": {
     "end_time": "2025-06-28T02:56:08.570020Z",
     "start_time": "2025-06-28T02:56:08.444956Z"
    }
   },
   "cell_type": "code",
   "source": [
    "log_reg.fit(X_train_scaled, y_train)\n",
    "y_pred_lr_sc = log_reg.predict(X_test_scaled)\n",
    "\n",
    "print('Logistic Regression Result from Scaled Data')\n",
    "print(confusion_matrix(y_test, y_pred_lr_sc))\n",
    "print(classification_report(y_test, y_pred_lr_sc))"
   ],
   "id": "85668d718d13b42c",
   "outputs": [
    {
     "name": "stdout",
     "output_type": "stream",
     "text": [
      "Logistic Regression Result from Scaled Data\n",
      "[[255  23]\n",
      " [ 24 278]]\n",
      "              precision    recall  f1-score   support\n",
      "\n",
      "           0       0.91      0.92      0.92       278\n",
      "           1       0.92      0.92      0.92       302\n",
      "\n",
      "    accuracy                           0.92       580\n",
      "   macro avg       0.92      0.92      0.92       580\n",
      "weighted avg       0.92      0.92      0.92       580\n",
      "\n"
     ]
    }
   ],
   "execution_count": 22
  },
  {
   "metadata": {
    "ExecuteTime": {
     "end_time": "2025-06-28T02:56:09.319272Z",
     "start_time": "2025-06-28T02:56:08.737412Z"
    }
   },
   "cell_type": "code",
   "source": [
    "rf = RandomForestClassifier(random_state=42)\n",
    "rf.fit(X_train, y_train)\n",
    "y_predict_rf = rf.predict(X_test)\n",
    "\n",
    "print('Random Forest Classifier Result')\n",
    "print(confusion_matrix(y_test, y_predict_rf))\n",
    "print(classification_report(y_test, y_predict_rf))"
   ],
   "id": "2818dd6aaf05fee",
   "outputs": [
    {
     "name": "stdout",
     "output_type": "stream",
     "text": [
      "Random Forest Classifier Result\n",
      "[[264  14]\n",
      " [ 23 279]]\n",
      "              precision    recall  f1-score   support\n",
      "\n",
      "           0       0.92      0.95      0.93       278\n",
      "           1       0.95      0.92      0.94       302\n",
      "\n",
      "    accuracy                           0.94       580\n",
      "   macro avg       0.94      0.94      0.94       580\n",
      "weighted avg       0.94      0.94      0.94       580\n",
      "\n"
     ]
    }
   ],
   "execution_count": 23
  },
  {
   "metadata": {
    "ExecuteTime": {
     "end_time": "2025-06-28T02:56:09.588051Z",
     "start_time": "2025-06-28T02:56:09.396876Z"
    }
   },
   "cell_type": "code",
   "source": [
    "xgb = XGBClassifier(eval_metric='logloss')\n",
    "xgb.fit(X_train, y_train)\n",
    "y_pred_xgb = xgb.predict(X_test)\n",
    "\n",
    "print('XGBOOST Result')\n",
    "print(confusion_matrix(y_test, y_pred_xgb))\n",
    "print(classification_report(y_test, y_pred_xgb))"
   ],
   "id": "2ee63ea8922ab03b",
   "outputs": [
    {
     "name": "stdout",
     "output_type": "stream",
     "text": [
      "XGBOOST Result\n",
      "[[260  18]\n",
      " [ 26 276]]\n",
      "              precision    recall  f1-score   support\n",
      "\n",
      "           0       0.91      0.94      0.92       278\n",
      "           1       0.94      0.91      0.93       302\n",
      "\n",
      "    accuracy                           0.92       580\n",
      "   macro avg       0.92      0.92      0.92       580\n",
      "weighted avg       0.92      0.92      0.92       580\n",
      "\n"
     ]
    }
   ],
   "execution_count": 24
  },
  {
   "metadata": {
    "ExecuteTime": {
     "end_time": "2025-06-28T02:56:09.953927Z",
     "start_time": "2025-06-28T02:56:09.685370Z"
    }
   },
   "cell_type": "code",
   "source": [
    "importance = rf.feature_importances_\n",
    "feature_name = X.columns\n",
    "sns.barplot(x=importance, y=feature_name)\n",
    "plt.title('Feature Importance')\n",
    "plt.xlabel('Importance')\n",
    "plt.ylabel('Feature Name')\n",
    "plt.show()"
   ],
   "id": "20d55b173a3bce8a",
   "outputs": [
    {
     "data": {
      "text/plain": [
       "<Figure size 640x480 with 1 Axes>"
      ],
      "image/png": "[encoded data removed]"
     },
     "metadata": {},
     "output_type": "display_data"
    }
   ],
   "execution_count": 25
  },
  {
   "metadata": {
    "ExecuteTime": {
     "end_time": "2025-06-28T02:56:10.038114Z",
     "start_time": "2025-06-28T02:56:10.016392Z"
    }
   },
   "cell_type": "code",
   "source": "",
   "id": "12370d6c83eb3770",
   "outputs": [],
   "execution_count": null
  }
 ],
 "metadata": {
  "kernelspec": {
   "display_name": "Python 3",
   "language": "python",
   "name": "python3"
  },
  "language_info": {
   "codemirror_mode": {
    "name": "ipython",
    "version": 2
   },
   "file_extension": ".py",
   "mimetype": "text/x-python",
   "name": "python",
   "nbconvert_exporter": "python",
   "pygments_lexer": "ipython2",
   "version": "2.7.6"
  }
 },
 "nbformat": 4,
 "nbformat_minor": 5
}
