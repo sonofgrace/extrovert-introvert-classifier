{
 "cells": [
  {
   "cell_type": "code",
   "id": "ef910ac3-5d3a-44ac-bfd8-387490cbcc8f",
   "metadata": {
    "ExecuteTime": {
     "end_time": "2025-06-29T10:00:51.298864Z",
     "start_time": "2025-06-29T10:00:51.284929Z"
    }
   },
   "source": [
    "# Import data manipulation libraries\n",
    "import pandas as pd  # For data processing and manipulation\n",
    "\n",
    "# Import visualisation libraries\n",
    "import matplotlib.pyplot as plt  # For creating plots and visualisations\n",
    "import seaborn as sns  # For enhanced statistical visualisations\n",
    "\n",
    "# Import model training and evaluation tools\n",
    "from sklearn.model_selection import train_test_split  # For splitting data into training and testing sets\n",
    "from sklearn.preprocessing import StandardScaler  # For feature scaling\n",
    "\n",
    "# Import machine learning models\n",
    "from sklearn.linear_model import LogisticRegression  # Basic classification model\n",
    "from sklearn.metrics import classification_report, confusion_matrix  # For model evaluation\n",
    "from sklearn.ensemble import RandomForestClassifier  # Tree-based ensemble model\n",
    "from xgboost import XGBClassifier  # Gradient boosting model\n",
    "\n",
    "# Import joblib\n",
    "import joblib"
   ],
   "outputs": [],
   "execution_count": 52
  },
  {
   "cell_type": "code",
   "id": "8f062b2a-8b3a-4c13-a778-7c2a313c0171",
   "metadata": {
    "ExecuteTime": {
     "end_time": "2025-06-29T10:00:51.402618Z",
     "start_time": "2025-06-29T10:00:51.368460Z"
    }
   },
   "source": [
    "# Read the CSV file 'df.csv' into a pandas DataFrame\n",
    "df = pd.read_csv('df.csv')\n",
    "\n",
    "# Drop the unwanted column\n",
    "df = df.drop('Unnamed: 0', axis=1)\n",
    "\n",
    "# Checking the columns in the dataframe\n",
    "df.columns"
   ],
   "outputs": [
    {
     "data": {
      "text/plain": [
       "Index(['Time_spent_Alone', 'Stage_fear', 'Social_event_attendance',\n",
       "       'Going_outside', 'Drained_after_socializing', 'Friends_circle_size',\n",
       "       'Post_frequency', 'Personality'],\n",
       "      dtype='object')"
      ]
     },
     "execution_count": 53,
     "metadata": {},
     "output_type": "execute_result"
    }
   ],
   "execution_count": 53
  },
  {
   "cell_type": "code",
   "id": "b7666ae7-8721-47ec-879a-117789d63272",
   "metadata": {
    "ExecuteTime": {
     "end_time": "2025-06-29T10:00:51.526699Z",
     "start_time": "2025-06-29T10:00:51.510046Z"
    }
   },
   "source": [
    "# Split the dataset into features (X) and target variable (y)\n",
    "# X contains all columns except 'Personality'\n",
    "X = df.drop('Personality', axis=1)\n",
    "# y contains only the 'Personality' column, which is our target for prediction\n",
    "y = df['Personality']"
   ],
   "outputs": [],
   "execution_count": 54
  },
  {
   "metadata": {
    "ExecuteTime": {
     "end_time": "2025-06-29T10:00:51.657772Z",
     "start_time": "2025-06-29T10:00:51.614649Z"
    }
   },
   "cell_type": "code",
   "source": [
    "# Checking the feature columns\n",
    "X.columns"
   ],
   "id": "c005415911f55178",
   "outputs": [
    {
     "data": {
      "text/plain": [
       "Index(['Time_spent_Alone', 'Stage_fear', 'Social_event_attendance',\n",
       "       'Going_outside', 'Drained_after_socializing', 'Friends_circle_size',\n",
       "       'Post_frequency'],\n",
       "      dtype='object')"
      ]
     },
     "execution_count": 55,
     "metadata": {},
     "output_type": "execute_result"
    }
   ],
   "execution_count": 55
  },
  {
   "cell_type": "code",
   "id": "6cf172c548fa8392",
   "metadata": {
    "ExecuteTime": {
     "end_time": "2025-06-29T10:00:51.837634Z",
     "start_time": "2025-06-29T10:00:51.773676Z"
    }
   },
   "source": [
    "# Split the dataset into training and testing sets\n",
    "# - X_train, y_train: 80% of data used for training\n",
    "# - X_test, y_test: 20% of data used for testing\n",
    "# - random_state=42 ensures reproducibility of the split\n",
    "X_train, X_test, y_train, y_test = train_test_split(X, y, test_size=0.2, random_state=42)\n",
    "# Display the shapes of training and testing feature sets to verify the split\n",
    "X_train.shape, X_test.shape"
   ],
   "outputs": [
    {
     "data": {
      "text/plain": [
       "((2320, 7), (580, 7))"
      ]
     },
     "execution_count": 56,
     "metadata": {},
     "output_type": "execute_result"
    }
   ],
   "execution_count": 56
  },
  {
   "cell_type": "code",
   "id": "1bf84fe9-69c1-492f-8c21-b02f2218058c",
   "metadata": {
    "ExecuteTime": {
     "end_time": "2025-06-29T10:00:52.019835Z",
     "start_time": "2025-06-29T10:00:51.941818Z"
    }
   },
   "source": [
    "# Initialize the StandardScaler object to standardize features\n",
    "scaler = StandardScaler()\n",
    "# Fit the scaler to the training data and transform it (standardize features to have mean=0 and variance=1)\n",
    "X_train_scaled = scaler.fit_transform(X_train)\n",
    "# Transform the test data using the same scaling parameters from the training data\n",
    "X_test_scaled = scaler.transform(X_test)"
   ],
   "outputs": [],
   "execution_count": 57
  },
  {
   "cell_type": "code",
   "id": "457e793e-67aa-4222-b7d3-fc423c1ad11f",
   "metadata": {
    "ExecuteTime": {
     "end_time": "2025-06-29T10:00:52.275528Z",
     "start_time": "2025-06-29T10:00:52.121160Z"
    }
   },
   "source": [
    "# Initialize the Logistic Regression model\n",
    "log_reg = LogisticRegression()\n",
    "\n",
    "# Train the model on the training data\n",
    "log_reg.fit(X_train, y_train)\n",
    "\n",
    "# Make predictions on the test data\n",
    "y_pred_lr = log_reg.predict(X_test)\n",
    "\n",
    "# Print the model evaluation results\n",
    "print('Logistic Regression Result')\n",
    "# Display the confusion matrix to show true positives, false positives, etc.\n",
    "print(confusion_matrix(y_test, y_pred_lr))\n",
    "# Display precision, recall, f1-score and support metrics\n",
    "print(classification_report(y_test, y_pred_lr))"
   ],
   "outputs": [
    {
     "name": "stdout",
     "output_type": "stream",
     "text": [
      "Logistic Regression Result\n",
      "[[258  20]\n",
      " [ 24 278]]\n",
      "              precision    recall  f1-score   support\n",
      "\n",
      "           0       0.91      0.93      0.92       278\n",
      "           1       0.93      0.92      0.93       302\n",
      "\n",
      "    accuracy                           0.92       580\n",
      "   macro avg       0.92      0.92      0.92       580\n",
      "weighted avg       0.92      0.92      0.92       580\n",
      "\n"
     ]
    }
   ],
   "execution_count": 58
  },
  {
   "cell_type": "code",
   "id": "1e605ad1-93fc-4524-b4ea-9a899801a322",
   "metadata": {
    "ExecuteTime": {
     "end_time": "2025-06-29T10:00:52.464724Z",
     "start_time": "2025-06-29T10:00:52.371104Z"
    }
   },
   "source": [
    "# Train the logistic regression model on the scaled training data\n",
    "log_reg.fit(X_train_scaled, y_train)\n",
    "\n",
    "# Make predictions on the scaled test data\n",
    "y_pred_lr_sc = log_reg.predict(X_test_scaled)\n",
    "\n",
    "# Print the evaluation metrics for the logistic regression model using scaled data\n",
    "print('Logistic Regression Result from Scaled Data')\n",
    "print(confusion_matrix(y_test, y_pred_lr_sc))  # Display the confusion matrix\n",
    "print(classification_report(y_test, y_pred_lr_sc))  # Display precision, recall, f1-score, and support"
   ],
   "outputs": [
    {
     "name": "stdout",
     "output_type": "stream",
     "text": [
      "Logistic Regression Result from Scaled Data\n",
      "[[256  22]\n",
      " [ 24 278]]\n",
      "              precision    recall  f1-score   support\n",
      "\n",
      "           0       0.91      0.92      0.92       278\n",
      "           1       0.93      0.92      0.92       302\n",
      "\n",
      "    accuracy                           0.92       580\n",
      "   macro avg       0.92      0.92      0.92       580\n",
      "weighted avg       0.92      0.92      0.92       580\n",
      "\n"
     ]
    }
   ],
   "execution_count": 59
  },
  {
   "cell_type": "code",
   "id": "9509cccb-a35e-451d-b489-f5ebdd244947",
   "metadata": {
    "ExecuteTime": {
     "end_time": "2025-06-29T10:00:53.266102Z",
     "start_time": "2025-06-29T10:00:52.551582Z"
    }
   },
   "source": [
    "# Initialize a Random Forest Classifier with a fixed random state for reproducibility\n",
    "rf = RandomForestClassifier(random_state=42)\n",
    "\n",
    "# Train the Random Forest model on the training data\n",
    "rf.fit(X_train, y_train)\n",
    "\n",
    "# Make predictions on the test data\n",
    "y_predict_rf = rf.predict(X_test)\n",
    "\n",
    "# Print the model evaluation results\n",
    "print('Random Forest Classifier Result')\n",
    "print(confusion_matrix(y_test, y_predict_rf))  # Display the confusion matrix\n",
    "print(classification_report(y_test, y_predict_rf))  # Display precision, recall, f1-score, and support"
   ],
   "outputs": [
    {
     "name": "stdout",
     "output_type": "stream",
     "text": [
      "Random Forest Classifier Result\n",
      "[[257  21]\n",
      " [ 26 276]]\n",
      "              precision    recall  f1-score   support\n",
      "\n",
      "           0       0.91      0.92      0.92       278\n",
      "           1       0.93      0.91      0.92       302\n",
      "\n",
      "    accuracy                           0.92       580\n",
      "   macro avg       0.92      0.92      0.92       580\n",
      "weighted avg       0.92      0.92      0.92       580\n",
      "\n"
     ]
    }
   ],
   "execution_count": 60
  },
  {
   "cell_type": "code",
   "id": "ee9ba1ae-cb25-4619-8359-7c9aff4c97c2",
   "metadata": {
    "ExecuteTime": {
     "end_time": "2025-06-29T10:00:53.523005Z",
     "start_time": "2025-06-29T10:00:53.334340Z"
    }
   },
   "source": [
    "# Initialize XGBoost classifier with logloss evaluation metric\n",
    "xgb = XGBClassifier(eval_metric='logloss')\n",
    "\n",
    "# Train the XGBoost model on the training data\n",
    "xgb.fit(X_train, y_train)\n",
    "\n",
    "# Make predictions on the test data\n",
    "y_pred_xgb = xgb.predict(X_test)\n",
    "\n",
    "# Print the model evaluation results\n",
    "print('XGBOOST Result')\n",
    "print(confusion_matrix(y_test, y_pred_xgb))  # Display confusion matrix\n",
    "print(classification_report(y_test, y_pred_xgb))  # Display precision, recall, f1-score, and support"
   ],
   "outputs": [
    {
     "name": "stdout",
     "output_type": "stream",
     "text": [
      "XGBOOST Result\n",
      "[[257  21]\n",
      " [ 28 274]]\n",
      "              precision    recall  f1-score   support\n",
      "\n",
      "           0       0.90      0.92      0.91       278\n",
      "           1       0.93      0.91      0.92       302\n",
      "\n",
      "    accuracy                           0.92       580\n",
      "   macro avg       0.92      0.92      0.92       580\n",
      "weighted avg       0.92      0.92      0.92       580\n",
      "\n"
     ]
    }
   ],
   "execution_count": 61
  },
  {
   "cell_type": "code",
   "id": "b65b6b43-a0b2-483b-b341-6b1a06bd0374",
   "metadata": {
    "ExecuteTime": {
     "end_time": "2025-06-29T10:00:54.112878Z",
     "start_time": "2025-06-29T10:00:53.609711Z"
    }
   },
   "source": [
    "# Extract feature importance values from the random forest model\n",
    "importance = rf.feature_importances_\n",
    "\n",
    "# Get the feature names from the X dataframe columns\n",
    "feature_name = X.columns\n",
    "\n",
    "# Create a bar plot showing feature importance\n",
    "sns.barplot(x=importance, y=feature_name)\n",
    "\n",
    "# Add a title and axis labels to the plot\n",
    "plt.title('Feature Importance')\n",
    "plt.xlabel('Importance')\n",
    "plt.ylabel('Feature Name')\n",
    "\n",
    "# Display the plot\n",
    "plt.show()"
   ],
   "outputs": [
    {
     "data": {
      "text/plain": [
       "<Figure size 640x480 with 1 Axes>"
      ],
      "image/png": "[encoded data removed]"
     },
     "metadata": {},
     "output_type": "display_data"
    }
   ],
   "execution_count": 62
  },
  {
   "cell_type": "code",
   "id": "12370d6c83eb3770",
   "metadata": {
    "ExecuteTime": {
     "end_time": "2025-06-29T10:00:54.345429Z",
     "start_time": "2025-06-29T10:00:54.201483Z"
    }
   },
   "source": "joblib.dump(rf, 'models/final_model.pkl')",
   "outputs": [
    {
     "data": {
      "text/plain": [
       "['C:/Users/HUB/Desktop/extrovert_vs_introvert/models/final_model.pkl']"
      ]
     },
     "execution_count": 63,
     "metadata": {},
     "output_type": "execute_result"
    }
   ],
   "execution_count": 63
  },
  {
   "metadata": {
    "ExecuteTime": {
     "end_time": "2025-06-29T10:00:54.495967Z",
     "start_time": "2025-06-29T10:00:54.437113Z"
    }
   },
   "cell_type": "code",
   "source": "joblib.dump(log_reg, 'models/log_reg_model.pkl')",
   "id": "f982d3dd7e55f0b8",
   "outputs": [
    {
     "data": {
      "text/plain": [
       "['C:/Users/HUB/Desktop/extrovert_vs_introvert/models/log_reg_model.pkl']"
      ]
     },
     "execution_count": 64,
     "metadata": {},
     "output_type": "execute_result"
    }
   ],
   "execution_count": 64
  },
  {
   "metadata": {
    "ExecuteTime": {
     "end_time": "2025-06-29T16:34:06.475841Z",
     "start_time": "2025-06-29T16:34:06.254978Z"
    }
   },
   "cell_type": "code",
   "source": "joblib.dump(xgb, 'models/xgb_model.pkl')",
   "id": "a637e45f11dd4f86",
   "outputs": [
    {
     "data": {
      "text/plain": [
       "['C:/Users/HUB/Desktop/extrovert_vs_introvert/models/xgb_model.pkl']"
      ]
     },
     "execution_count": 68,
     "metadata": {},
     "output_type": "execute_result"
    }
   ],
   "execution_count": 68
  },
  {
   "metadata": {},
   "cell_type": "code",
   "outputs": [],
   "execution_count": null,
   "source": "",
   "id": "c82eb091be696bf4"
  }
 ],
 "metadata": {
  "kernelspec": {
   "display_name": "Python [conda env:base] *",
   "language": "python",
   "name": "conda-base-py"
  },
  "language_info": {
   "codemirror_mode": {
    "name": "ipython",
    "version": 3
   },
   "file_extension": ".py",
   "mimetype": "text/x-python",
   "name": "python",
   "nbconvert_exporter": "python",
   "pygments_lexer": "ipython3",
   "version": "3.12.7"
  }
 },
 "nbformat": 4,
 "nbformat_minor": 5
}
